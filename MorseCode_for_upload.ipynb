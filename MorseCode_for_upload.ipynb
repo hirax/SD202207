{
 "cells": [
  {
   "cell_type": "markdown",
   "metadata": {},
   "source": [
    "# Software Design July, 2022\n",
    "## Jun Hirabayashi   twitter: @hirax"
   ]
  },
  {
   "cell_type": "code",
   "execution_count": null,
   "metadata": {},
   "outputs": [],
   "source": [
    "#conda create --name sd202207 python=3.9\n",
    "#conda activate sd202207\n",
    "#pip install morse3\n",
    "#conda install -c anaconda jupyter "
   ]
  },
  {
   "cell_type": "markdown",
   "metadata": {},
   "source": [
    "##  英数字⇒モールス符号・時系列ON/OFF信号変換"
   ]
  },
  {
   "cell_type": "code",
   "execution_count": 16,
   "metadata": {},
   "outputs": [
    {
     "name": "stdout",
     "output_type": "stream",
     "text": [
      ".... . .-.. .-.. --- .-.-.- \n",
      "_ _ _ _   _   _ ___ _ _   _ ___ _ _   ___ ___ ___   _ ___ _ ___ _ ___   \n"
     ]
    }
   ],
   "source": [
    "from morse3 import Morse as morse; from PIL import Image\n",
    "# .は_1個+空白1個、-は_3個+空白1個。単語間は空白3個に変換\n",
    "CODE_TO_SIGNAL = {'.':'_ ', '-':'___ ', ' ':'  '}  # 継続時間補正用\n",
    "IS_SIGNAL_ON   = {'_':True, ' ':False}         # 時系列On/OFF信号用\n",
    "# 文字列をモールス符号文字列に変換し、\".\"と\"_\"の継続時間\n",
    "morse_message = morse('Hello.').stringToMorse() \n",
    "time_codes=''.join( [CODE_TO_SIGNAL[m] for m in morse_message] ) \n",
    "signals = [ IS_SIGNAL_ON[c] for c in time_codes] # 時系列On/OFF信号\n",
    "# モールス符号として表示したり、時系列ON/OFF信号を表示したり\n",
    "print(morse_message); print(time_codes)\n",
    "\n",
    "# モールス符号の信号がONなら「白画像」、OFFなら「黒画像」にするためのテーブル\n",
    "w=600; h=1200; IMAGE={True: Image.new('RGB',(w,h),(255,255,255)),\n",
    "                      False: Image.new('RGB',(w,h),(0,0,0)) }\n",
    "images = [IMAGE[s] for s in signals]\n",
    "images[0].save( 'message.gif', save_all=True, #アニメーションGIF保存\n",
    "  append_images=images[1:], optimize=False, duration=100, loop=1 ) # duration 100"
   ]
  },
  {
   "cell_type": "markdown",
   "metadata": {},
   "source": [
    "## 記事未使用バージョン"
   ]
  },
  {
   "cell_type": "code",
   "execution_count": 155,
   "metadata": {},
   "outputs": [
    {
     "name": "stdout",
     "output_type": "stream",
     "text": [
      ".... . .-.. .-.. ---   .-- --- .-. .-.. -.. .-.-.- \n",
      "MORSE: 529552\n",
      "ASCII 6bit: 701556\n"
     ]
    }
   ],
   "source": [
    "# 短点(dot)=1, 長点(dash)=3, (文字内)点間隔('')=1\n",
    "# 文字間隔(' ')=3=点間隔1+2\n",
    "# 語間隔=7=文字間隔3+4\n",
    "\n",
    "import dataclasses # Python 3.7以降を利用\n",
    "import re\n",
    "from morse3 import Morse as morse\n",
    "\n",
    "# .は_1個+空白1個、-は_3個+空白1個。単語間は空白3個に変換\n",
    "CODE_TO_SIGNAL = {'.':'. ', '-':'--- ', ' ':'  '}\n",
    "IS_SIGNAL_ON   = {'.':True, '-':True,   ' ':False}\n",
    "\n",
    "# データ処理する時は、クラス化しておくと「整理」しやすい\n",
    "@dataclasses.dataclass\n",
    "class MorseCode:\n",
    "    code:   str # dot(.), dash(-), 無信号(' ')\n",
    "\n",
    "# 文字列をモールス符号文字列に変換する\n",
    "morse_message = morse('Hello world.').stringToMorse()\n",
    "print(morse_message)\n",
    "\n",
    "# 小説「黄金虫」をモールス符号に変換し、変換効率を眺めてみる\n",
    "message = re.sub(r'[^a-zA-Z0-9]', '', ''.join(open(\"gold-bug.txt\").readlines()))\n",
    "#message = re.sub(r'[^a-zA-Z0-9]', '', message)\n",
    "morse_message = morse(message).stringToMorse()\n",
    "morse_codes = [MorseCode(m) for m in morse_message]            # モールス符号クラス列\n",
    "time_codes = ''.join([CODE_TO_SIGNAL[m.code] for m in morse_codes]) # モールス符号列\n",
    "signals = [ IS_SIGNAL_ON[c] for c in time_codes]                 # 時系列On/OFF信号\n",
    "\n",
    "print(\"MORSE: \"+str(len(signals))); print(\"ASCII 6bit: \"+str(len(message)*6*2))\n",
    "\n",
    "# https://git.lysator.liu.se/briansmith/nettle/-/blob/master/testsuite/gold-bug.txt"
   ]
  },
  {
   "cell_type": "code",
   "execution_count": 29,
   "metadata": {},
   "outputs": [
    {
     "name": "stdout",
     "output_type": "stream",
     "text": [
      ".... . .-.. .-.. --- .-.-.- \n",
      "_ _ _ _   _   _ ___ _ _   _ ___ _ _   ___ ___ ___   _ ___ _ ___ _ ___   \n"
     ]
    }
   ],
   "source": [
    "from morse3 import Morse as morse; from PIL import Image\n",
    "# .は_1個+空白1個、-は_3個+空白1個。単語間は空白3個に変換\n",
    "CODE_TO_SIGNAL = {'.':'_ ', '-':'___ ', ' ':'  '}  # 継続時間補正用\n",
    "IS_SIGNAL_ON   = {'_':True, ' ':False}         # 時系列On/OFF信号用\n",
    "# 文字列をモールス符号文字列に変換し、\".\"と\"_\"の継続時間\n",
    "morse_message = morse('Hello.').stringToMorse() \n",
    "time_codes=''.join( [CODE_TO_SIGNAL[m] for m in morse_message] ) \n",
    "signals = [ IS_SIGNAL_ON[c] for c in time_codes] # 時系列On/OFF信号\n",
    "# モールス符号として表示したり、時系列ON/OFF信号を表示したり\n",
    "print(morse_message); print(time_codes)\n",
    "\n",
    "for i in range(6):\n",
    "    signals.insert(0,False)\n",
    "    signals.append(False)\n",
    "\n",
    "# モールス符号の信号がONなら「白画像」、OFFなら「黒画像」にするためのテーブル\n",
    "w=600; h=1200; IMAGE={True: Image.new('RGB',(w,h),(255,255,255)),\n",
    "                      False: Image.new('RGB',(w,h),(0,0,0)) }\n",
    "images = [IMAGE[s] for s in signals]\n",
    "images[0].save( 'message.gif', save_all=True, #アニメーションGIF保存\n",
    "  append_images=images[1:], optimize=False, duration=500, loop=1 ) # duration 100"
   ]
  },
  {
   "cell_type": "code",
   "execution_count": null,
   "metadata": {},
   "outputs": [],
   "source": []
  }
 ],
 "metadata": {
  "kernelspec": {
   "display_name": "Python 3 (ipykernel)",
   "language": "python",
   "name": "python3"
  },
  "language_info": {
   "codemirror_mode": {
    "name": "ipython",
    "version": 3
   },
   "file_extension": ".py",
   "mimetype": "text/x-python",
   "name": "python",
   "nbconvert_exporter": "python",
   "pygments_lexer": "ipython3",
   "version": "3.7.4"
  }
 },
 "nbformat": 4,
 "nbformat_minor": 2
}
